{
 "cells": [
  {
   "cell_type": "markdown",
   "id": "b1528d7b",
   "metadata": {},
   "source": [
    "# Imports"
   ]
  },
  {
   "cell_type": "code",
   "execution_count": 1,
   "id": "e9dc9937",
   "metadata": {},
   "outputs": [],
   "source": [
    "# TensorFlow and tf.keras imports\n",
    "\n",
    "import tensorflow\n",
    "example_model = tensorflow.keras.Sequential()\n",
    "BatchNormalization = tensorflow.keras.layers.BatchNormalization\n",
    "Conv2D = tensorflow.keras.layers.Conv2D\n",
    "MaxPooling2D = tensorflow.keras.layers.MaxPooling2D\n",
    "Activation = tensorflow.keras.layers.Activation\n",
    "Flatten = tensorflow.keras.layers.Flatten\n",
    "Dropout = tensorflow.keras.layers.Dropout\n",
    "Dense = tensorflow.keras.layers.Dense\n",
    "K = tensorflow.keras.backend\n",
    "\n",
    "from sklearn import neighbors,metrics\n",
    "from sklearn.neighbors import KNeighborsClassifier\n",
    "from sklearn.model_selection import train_test_split\n",
    "from sklearn.svm import SVC\n",
    "\n",
    "\n",
    "import gzip\n",
    "import numpy as np\n",
    "import matplotlib.pyplot as plt\n",
    "from sklearn.metrics import accuracy_score\n",
    "from sklearn.metrics import precision_score\n",
    "from sklearn.metrics import recall_score\n",
    "from sklearn.metrics import f1_score\n",
    "\n",
    "\n",
    "import keras\n",
    "from sklearn.model_selection import KFold\n",
    "from keras.datasets import fashion_mnist\n",
    "from keras.utils import to_categorical\n",
    "from keras.models import Sequential\n",
    "from keras.layers import Conv2D\n",
    "from keras.layers import MaxPooling2D\n",
    "from keras.layers import Dense\n",
    "from keras.layers import Flatten\n",
    "from keras.optimizers import SGD\n",
    "from tensorflow.keras.utils import to_categorical"
   ]
  },
  {
   "cell_type": "markdown",
   "id": "26246b14",
   "metadata": {},
   "source": [
    "## Nearest Neighbor Algorithm"
   ]
  },
  {
   "cell_type": "code",
   "execution_count": null,
   "id": "919d4c67",
   "metadata": {},
   "outputs": [],
   "source": [
    "fashion_mnist = tensorflow.keras.datasets.fashion_mnist\n",
    "(train_images, train_labels), (test_images, test_labels) = fashion_mnist.load_data()\n",
    "train_images = np.reshape(train_images, (60000, 28 * 28))\n",
    "test_images = np.reshape(test_images, (10000, 28 * 28))\n",
    "    \n",
    "class_names = ['T-shirt/top', 'Trouser', 'Pullover', 'Dress', 'Coat',\n",
    "                   'Sandal', 'Shirt', 'Sneaker', 'Bag', 'Ankle boot']   \n",
    "\n",
    "train_images = train_images / 255.0\n",
    "test_images = test_images / 255.0\n",
    "\n",
    "idx =(train_labels ==0 )| (train_labels ==1) |(train_labels ==2 )|(train_labels ==3) |(train_labels==4)|(train_labels==5) | (train_labels==6) |(train_labels==7) |(train_labels==8) |(train_labels ==9)\n",
    "X = train_images[idx]\n",
    "Y = train_labels[idx]\n",
    "\n",
    "\n",
    "knn = neighbors.KNeighborsClassifier(n_neighbors= 20).fit(X,Y)\n",
    "    \n",
    "    \n",
    "idx =(test_labels ==0 )| (test_labels ==1) |(test_labels ==2 )|(test_labels ==3) |(test_labels==4)|(test_labels==5) | (test_labels==6) |(test_labels==7) |(test_labels==8) |(test_labels ==9)\n",
    "    \n",
    "x_test= test_images[idx]\n",
    "y_test = test_labels[idx]\n",
    "\n",
    "    \n",
    "prediction = knn.predict(x_test)\n",
    "print(prediction)"
   ]
  },
  {
   "cell_type": "markdown",
   "id": "44ca775b",
   "metadata": {},
   "source": [
    "## Nearest-Neighbor Results"
   ]
  },
  {
   "cell_type": "code",
   "execution_count": 55,
   "id": "1f951b93",
   "metadata": {},
   "outputs": [
    {
     "name": "stdout",
     "output_type": "stream",
     "text": [
      "Accuracy = 0.8415\n",
      "Precision = 0.8452106724900534\n",
      "Recall=  0.8414999999999999\n",
      "F1 score= 0.8407489052457434\n"
     ]
    }
   ],
   "source": [
    "print(\"Accuracy =\",accuracy_score(y_test,prediction))\n",
    "print(\"Precision =\",precision_score(y_test,prediction,average='macro'))\n",
    "print('Recall= ',recall_score(y_test,prediction,average='macro'))\n",
    "print('F1 score=',f1_score(y_test,prediction,average='macro'))"
   ]
  },
  {
   "cell_type": "markdown",
   "id": "f1e1e07d",
   "metadata": {},
   "source": [
    "## SVM Algorithm"
   ]
  },
  {
   "cell_type": "code",
   "execution_count": 63,
   "id": "27470e7c",
   "metadata": {},
   "outputs": [
    {
     "name": "stdout",
     "output_type": "stream",
     "text": [
      "10000 10000\n",
      "[9 2 1 ... 8 1 5]\n"
     ]
    }
   ],
   "source": [
    "fashion_mnist = tensorflow.keras.datasets.fashion_mnist\n",
    "(train_images, train_labels), (test_images, test_labels) = fashion_mnist.load_data()\n",
    "train_images = np.reshape(train_images, (60000, 28 * 28))\n",
    "test_images = np.reshape(test_images, (10000, 28 * 28))\n",
    "    \n",
    "class_names = ['T-shirt/top', 'Trouser', 'Pullover', 'Dress', 'Coat',\n",
    "                   'Sandal', 'Shirt', 'Sneaker', 'Bag', 'Ankle boot']   \n",
    "\n",
    "train_images = train_images / 255.0\n",
    "test_images = test_images / 255.0\n",
    "\n",
    "idx =(train_labels ==0 )| (train_labels ==1) |(train_labels ==2 )|(train_labels ==3) |(train_labels==4)|(train_labels==5) | (train_labels==6) |(train_labels==7) |(train_labels==8) |(train_labels ==9)\n",
    "x_train = train_images[idx]\n",
    "y_train = train_labels[idx]\n",
    "\n",
    "\n",
    "SVM = SVC(kernel=\"rbf\", C = 1.0,gamma=\"auto\")\n",
    "\n",
    "SVM.fit(x_train,y_train)\n",
    "\n",
    "\n",
    "    \n",
    "idx =(test_labels ==0 )| (test_labels ==1) |(test_labels ==2 )|(test_labels ==3) |(test_labels==4)|(test_labels==5) | (test_labels==6) |(test_labels==7) |(test_labels==8) |(test_labels ==9)\n",
    "    \n",
    "x_test= test_images[idx]\n",
    "y_test = test_labels[idx]\n",
    "\n",
    "    \n",
    "prediction = SVM.predict(x_test)\n"
   ]
  },
  {
   "cell_type": "markdown",
   "id": "eb5dbc63",
   "metadata": {},
   "source": [
    "## SVM Results"
   ]
  },
  {
   "cell_type": "code",
   "execution_count": 66,
   "id": "731ee9d1",
   "metadata": {},
   "outputs": [
    {
     "name": "stdout",
     "output_type": "stream",
     "text": [
      "-------|SVM RESULTS|-------\n",
      "Accuracy = 0.8461\n",
      "Precision = 0.8441200129037038\n",
      "Recall=  0.8461000000000001\n",
      "F1 score= 0.8442523330674836\n"
     ]
    }
   ],
   "source": [
    "print(\"Accuracy =\",accuracy_score(y_test,prediction))\n",
    "print(\"Precision =\",precision_score(y_test,prediction,average='macro'))\n",
    "print('Recall= ',recall_score(y_test,prediction,average='macro'))\n",
    "print('F1 score=',f1_score(y_test,prediction,average='macro'))"
   ]
  },
  {
   "cell_type": "markdown",
   "id": "0738dfd2",
   "metadata": {},
   "source": [
    "# Neural Networks"
   ]
  },
  {
   "cell_type": "code",
   "execution_count": 1,
   "id": "135b0174",
   "metadata": {},
   "outputs": [
    {
     "ename": "NameError",
     "evalue": "name 'tensorflow' is not defined",
     "output_type": "error",
     "traceback": [
      "\u001b[1;31m---------------------------------------------------------------------------\u001b[0m",
      "\u001b[1;31mNameError\u001b[0m                                 Traceback (most recent call last)",
      "\u001b[1;32m<ipython-input-1-64f640d9980e>\u001b[0m in \u001b[0;36m<module>\u001b[1;34m\u001b[0m\n\u001b[1;32m----> 1\u001b[1;33m \u001b[0mfashion_mnist\u001b[0m \u001b[1;33m=\u001b[0m \u001b[0mtensorflow\u001b[0m\u001b[1;33m.\u001b[0m\u001b[0mkeras\u001b[0m\u001b[1;33m.\u001b[0m\u001b[0mdatasets\u001b[0m\u001b[1;33m.\u001b[0m\u001b[0mfashion_mnist\u001b[0m\u001b[1;33m\u001b[0m\u001b[1;33m\u001b[0m\u001b[0m\n\u001b[0m\u001b[0;32m      2\u001b[0m \u001b[1;33m(\u001b[0m\u001b[0mtrainX\u001b[0m\u001b[1;33m,\u001b[0m \u001b[0mtrainY\u001b[0m\u001b[1;33m)\u001b[0m\u001b[1;33m,\u001b[0m \u001b[1;33m(\u001b[0m\u001b[0mtestX\u001b[0m\u001b[1;33m,\u001b[0m \u001b[0mtestY\u001b[0m\u001b[1;33m)\u001b[0m \u001b[1;33m=\u001b[0m \u001b[0mfashion_mnist\u001b[0m\u001b[1;33m.\u001b[0m\u001b[0mload_data\u001b[0m\u001b[1;33m(\u001b[0m\u001b[1;33m)\u001b[0m\u001b[1;33m\u001b[0m\u001b[1;33m\u001b[0m\u001b[0m\n\u001b[0;32m      3\u001b[0m \u001b[1;33m\u001b[0m\u001b[0m\n\u001b[0;32m      4\u001b[0m \u001b[0mtrainX\u001b[0m \u001b[1;33m=\u001b[0m \u001b[0mtrainX\u001b[0m\u001b[1;33m.\u001b[0m\u001b[0mreshape\u001b[0m\u001b[1;33m(\u001b[0m\u001b[1;33m(\u001b[0m\u001b[0mtrainX\u001b[0m\u001b[1;33m.\u001b[0m\u001b[0mshape\u001b[0m\u001b[1;33m[\u001b[0m\u001b[1;36m0\u001b[0m\u001b[1;33m]\u001b[0m\u001b[1;33m,\u001b[0m \u001b[1;36m28\u001b[0m\u001b[1;33m,\u001b[0m \u001b[1;36m28\u001b[0m\u001b[1;33m,\u001b[0m \u001b[1;36m1\u001b[0m\u001b[1;33m)\u001b[0m\u001b[1;33m)\u001b[0m\u001b[1;33m\u001b[0m\u001b[1;33m\u001b[0m\u001b[0m\n\u001b[0;32m      5\u001b[0m \u001b[0mtestX\u001b[0m \u001b[1;33m=\u001b[0m \u001b[0mtestX\u001b[0m\u001b[1;33m.\u001b[0m\u001b[0mreshape\u001b[0m\u001b[1;33m(\u001b[0m\u001b[1;33m(\u001b[0m\u001b[0mtestX\u001b[0m\u001b[1;33m.\u001b[0m\u001b[0mshape\u001b[0m\u001b[1;33m[\u001b[0m\u001b[1;36m0\u001b[0m\u001b[1;33m]\u001b[0m\u001b[1;33m,\u001b[0m \u001b[1;36m28\u001b[0m\u001b[1;33m,\u001b[0m \u001b[1;36m28\u001b[0m\u001b[1;33m,\u001b[0m \u001b[1;36m1\u001b[0m\u001b[1;33m)\u001b[0m\u001b[1;33m)\u001b[0m\u001b[1;33m\u001b[0m\u001b[1;33m\u001b[0m\u001b[0m\n",
      "\u001b[1;31mNameError\u001b[0m: name 'tensorflow' is not defined"
     ]
    }
   ],
   "source": [
    "fashion_mnist = tensorflow.keras.datasets.fashion_mnist\n",
    "(trainX, trainY), (testX, testY) = fashion_mnist.load_data()\n",
    "\n",
    "trainX = trainX.reshape((trainX.shape[0], 28, 28, 1))\n",
    "testX = testX.reshape((testX.shape[0], 28, 28, 1))\n",
    "\n",
    "trainY = to_categorical(trainY)\n",
    "testY = to_categorical(testY)\n",
    "    \n",
    "train_norm = train.astype('float32')\n",
    "test_norm = test.astype('float32')\n",
    "# normalize to range 0-1\n",
    "train_norm = train_norm / 255.0\n",
    "test_norm = test_norm / 255.0\n",
    "\n",
    "def define_model():\n",
    "    model = Sequential()\n",
    "    model.add(Conv2D(32, (3, 3), padding='same', activation='relu', kernel_initializer='he_uniform', input_shape=(28, 28, 1)))\n",
    "    model.add(MaxPooling2D((2, 2)))\n",
    "    model.add(Flatten())\n",
    "    model.add(Dense(100, activation='relu', kernel_initializer='he_uniform'))\n",
    "    model.add(Dense(10, activation='softmax'))\n",
    "    # compile model\n",
    "    opt = SGD(lr=0.01, momentum=0.9)\n",
    "    model.compile(optimizer=opt, loss='categorical_crossentropy', metrics=['accuracy'])\n",
    "    return model\n",
    "\n",
    "def evaluate_model(dataX, dataY, n_folds=5):\n",
    "    scores, histories = list(), list()\n",
    "    # prepare cross validation\n",
    "    kfold = KFold(n_folds, shuffle=True, random_state=1)\n",
    "    # enumerate splits\n",
    "    for train_ix, test_ix in kfold.split(dataX):\n",
    "        # define model\n",
    "        model = define_model()\n",
    "        # select rows for train and test\n",
    "        trainX, trainY, testX, testY = dataX[train_ix], dataY[train_ix], dataX[test_ix], dataY[test_ix]\n",
    "        # fit model\n",
    "        history = model.fit(trainX, trainY, epochs=10, batch_size=32, validation_data=(testX, testY), verbose=0)\n",
    "        # evaluate model\n",
    "        _, acc = model.evaluate(testX, testY, verbose=0)\n",
    "        print('> %.3f' % (acc * 100.0))\n",
    "        # append scores\n",
    "        scores.append(acc)\n",
    "        histories.append(history)\n",
    "return scores, histories\n",
    "\n",
    "scores, histories=evaluate_model(dataX, dataY, n_folds=5)\n"
   ]
  }
 ],
 "metadata": {
  "kernelspec": {
   "display_name": "Python 3",
   "language": "python",
   "name": "python3"
  },
  "language_info": {
   "codemirror_mode": {
    "name": "ipython",
    "version": 3
   },
   "file_extension": ".py",
   "mimetype": "text/x-python",
   "name": "python",
   "nbconvert_exporter": "python",
   "pygments_lexer": "ipython3",
   "version": "3.8.8"
  }
 },
 "nbformat": 4,
 "nbformat_minor": 5
}
