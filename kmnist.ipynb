{
 "cells": [
  {
   "cell_type": "markdown",
   "id": "3cf42d6a",
   "metadata": {},
   "source": [
    "# Imports"
   ]
  },
  {
   "cell_type": "code",
   "execution_count": 62,
   "id": "e9dc9937",
   "metadata": {},
   "outputs": [],
   "source": [
    "# TensorFlow and tf.keras imports\n",
    "\n",
    "import tensorflow\n",
    "example_model = tensorflow.keras.Sequential()\n",
    "BatchNormalization = tensorflow.keras.layers.BatchNormalization\n",
    "Conv2D = tensorflow.keras.layers.Conv2D\n",
    "MaxPooling2D = tensorflow.keras.layers.MaxPooling2D\n",
    "Activation = tensorflow.keras.layers.Activation\n",
    "Flatten = tensorflow.keras.layers.Flatten\n",
    "Dropout = tensorflow.keras.layers.Dropout\n",
    "Dense = tensorflow.keras.layers.Dense\n",
    "K = tensorflow.keras.backend\n",
    "\n",
    "from sklearn import neighbors,metrics\n",
    "from sklearn.neighbors import KNeighborsClassifier\n",
    "from sklearn.model_selection import train_test_split\n",
    "from sklearn.svm import SVC\n",
    "#libraries for metrics \n",
    "\n",
    "import gzip\n",
    "import numpy as np\n",
    "import matplotlib.pyplot as plt\n",
    "from sklearn.metrics import accuracy_score\n",
    "from sklearn.metrics import precision_score\n",
    "from sklearn.metrics import recall_score\n",
    "from sklearn.metrics import f1_score\n"
   ]
  },
  {
   "cell_type": "markdown",
   "id": "26246b14",
   "metadata": {},
   "source": [
    "## Nearest Neighbor Algorithm"
   ]
  },
  {
   "cell_type": "code",
   "execution_count": 15,
   "id": "919d4c67",
   "metadata": {},
   "outputs": [
    {
     "name": "stdout",
     "output_type": "stream",
     "text": [
      "60000 60000\n",
      "10000 10000\n",
      "[9 2 1 ... 8 1 7]\n"
     ]
    }
   ],
   "source": [
    "fashion_mnist = tensorflow.keras.datasets.fashion_mnist\n",
    "(train_images, train_labels), (test_images, test_labels) = fashion_mnist.load_data()\n",
    "train_images = np.reshape(train_images, (60000, 28 * 28))\n",
    "test_images = np.reshape(test_images, (10000, 28 * 28))\n",
    "    \n",
    "    #clothing categories\n",
    "class_names = ['T-shirt/top', 'Trouser', 'Pullover', 'Dress', 'Coat',\n",
    "                   'Sandal', 'Shirt', 'Sneaker', 'Bag', 'Ankle boot']   \n",
    "\n",
    "train_images = train_images / 255.0\n",
    "test_images = test_images / 255.0\n",
    "\n",
    "idx =(train_labels ==0 )| (train_labels ==1) |(train_labels ==2 )|(train_labels ==3) |(train_labels==4)|(train_labels==5) | (train_labels==6) |(train_labels==7) |(train_labels==8) |(train_labels ==9)\n",
    "X = train_images[idx]\n",
    "Y = train_labels[idx]\n",
    "\n",
    "print(len(X),len(Y))\n",
    "#Fit classifier\n",
    "knn = neighbors.KNeighborsClassifier(n_neighbors= 20).fit(X,Y)\n",
    "    \n",
    "    \n",
    "idx =(test_labels ==0 )| (test_labels ==1) |(test_labels ==2 )|(test_labels ==3) |(test_labels==4)|(test_labels==5) | (test_labels==6) |(test_labels==7) |(test_labels==8) |(test_labels ==9)\n",
    "    \n",
    "x_test= test_images[idx]\n",
    "y_test = test_labels[idx]\n",
    "print(len(x_test),len(y_test))\n",
    "    \n",
    "prediction = knn.predict(x_test)\n",
    "print(prediction)"
   ]
  },
  {
   "cell_type": "markdown",
   "id": "b68011e9",
   "metadata": {},
   "source": [
    "## Nearest-Neighbor Results"
   ]
  },
  {
   "cell_type": "code",
   "execution_count": 55,
   "id": "cd0888e5",
   "metadata": {},
   "outputs": [
    {
     "name": "stdout",
     "output_type": "stream",
     "text": [
      "Accuracy = 0.8415\n",
      "Precision = 0.8452106724900534\n",
      "Recall=  0.8414999999999999\n",
      "F1 score= 0.8407489052457434\n"
     ]
    }
   ],
   "source": [
    "print(\"-------|Nearest Neighbor RESULTS|-------\")\n",
    "# accuracy: (tp + tn) / (p + n)\n",
    "print(\"Accuracy =\",accuracy_score(y_test,prediction))\n",
    "\n",
    "# precision tp / (tp + fp)\n",
    "print(\"Precision =\",precision_score(y_test,prediction,average='macro'))\n",
    "\n",
    "# recall: tp / (tp + fn)\n",
    "print('Recall= ',recall_score(y_test,prediction,average='macro'))\n",
    "\n",
    "# f1: 2 tp / (2 tp + fp + fn)\n",
    "print('F1 score=',f1_score(y_test,prediction,average='macro'))"
   ]
  },
  {
   "cell_type": "markdown",
   "id": "5bcd0c3c",
   "metadata": {},
   "source": [
    "## SVM Algorithm"
   ]
  },
  {
   "cell_type": "code",
   "execution_count": 63,
   "id": "dc0a68fd",
   "metadata": {},
   "outputs": [
    {
     "name": "stdout",
     "output_type": "stream",
     "text": [
      "10000 10000\n",
      "[9 2 1 ... 8 1 5]\n"
     ]
    }
   ],
   "source": [
    "fashion_mnist = tensorflow.keras.datasets.fashion_mnist\n",
    "(train_images, train_labels), (test_images, test_labels) = fashion_mnist.load_data()\n",
    "train_images = np.reshape(train_images, (60000, 28 * 28))\n",
    "test_images = np.reshape(test_images, (10000, 28 * 28))\n",
    "    \n",
    "    #clothing categories\n",
    "class_names = ['T-shirt/top', 'Trouser', 'Pullover', 'Dress', 'Coat',\n",
    "                   'Sandal', 'Shirt', 'Sneaker', 'Bag', 'Ankle boot']   \n",
    "\n",
    "train_images = train_images / 255.0\n",
    "test_images = test_images / 255.0\n",
    "\n",
    "idx =(train_labels ==0 )| (train_labels ==1) |(train_labels ==2 )|(train_labels ==3) |(train_labels==4)|(train_labels==5) | (train_labels==6) |(train_labels==7) |(train_labels==8) |(train_labels ==9)\n",
    "x_train = train_images[idx]\n",
    "y_train = train_labels[idx]\n",
    "\n",
    "# Initialize C-Support Vector classifier\n",
    "SVM = SVC(kernel=\"rbf\", C = 1.0,gamma=\"auto\")\n",
    "# Fit classifier\n",
    "SVM.fit(x_train,y_train)\n",
    "\n",
    "\n",
    "    \n",
    "idx =(test_labels ==0 )| (test_labels ==1) |(test_labels ==2 )|(test_labels ==3) |(test_labels==4)|(test_labels==5) | (test_labels==6) |(test_labels==7) |(test_labels==8) |(test_labels ==9)\n",
    "    \n",
    "x_test= test_images[idx]\n",
    "y_test = test_labels[idx]\n",
    "print(len(x_test),len(y_test))\n",
    "    \n",
    "prediction = SVM.predict(x_test)\n",
    "print(prediction)"
   ]
  },
  {
   "cell_type": "markdown",
   "id": "ca894538",
   "metadata": {},
   "source": [
    "## SVM Results"
   ]
  },
  {
   "cell_type": "code",
   "execution_count": 66,
   "id": "8c9073f2",
   "metadata": {},
   "outputs": [
    {
     "name": "stdout",
     "output_type": "stream",
     "text": [
      "-------|SVM RESULTS|-------\n",
      "Accuracy = 0.8461\n",
      "Precision = 0.8441200129037038\n",
      "Recall=  0.8461000000000001\n",
      "F1 score= 0.8442523330674836\n"
     ]
    }
   ],
   "source": [
    "# accuracy: (tp + tn) / (p + n)\n",
    "print(\"-------|SVM RESULTS|-------\")\n",
    "print(\"Accuracy =\",accuracy_score(y_test,prediction))\n",
    "\n",
    "# precision tp / (tp + fp)\n",
    "print(\"Precision =\",precision_score(y_test,prediction,average='macro'))\n",
    "\n",
    "# recall: tp / (tp + fn)\n",
    "print('Recall= ',recall_score(y_test,prediction,average='macro'))\n",
    "\n",
    "# f1: 2 tp / (2 tp + fp + fn)\n",
    "print('F1 score=',f1_score(y_test,prediction,average='macro'))"
   ]
  }
 ],
 "metadata": {
  "kernelspec": {
   "display_name": "Python 3",
   "language": "python",
   "name": "python3"
  },
  "language_info": {
   "codemirror_mode": {
    "name": "ipython",
    "version": 3
   },
   "file_extension": ".py",
   "mimetype": "text/x-python",
   "name": "python",
   "nbconvert_exporter": "python",
   "pygments_lexer": "ipython3",
   "version": "3.8.8"
  }
 },
 "nbformat": 4,
 "nbformat_minor": 5
}
