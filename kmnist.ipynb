{
 "cells": [
  {
   "cell_type": "code",
   "execution_count": 2,
   "id": "e9dc9937",
   "metadata": {},
   "outputs": [],
   "source": [
    "# TensorFlow and tf.keras imports\n",
    "\n",
    "import tensorflow\n",
    "example_model = tensorflow.keras.Sequential()\n",
    "BatchNormalization = tensorflow.keras.layers.BatchNormalization\n",
    "Conv2D = tensorflow.keras.layers.Conv2D\n",
    "MaxPooling2D = tensorflow.keras.layers.MaxPooling2D\n",
    "Activation = tensorflow.keras.layers.Activation\n",
    "Flatten = tensorflow.keras.layers.Flatten\n",
    "Dropout = tensorflow.keras.layers.Dropout\n",
    "Dense = tensorflow.keras.layers.Dense\n",
    "K = tensorflow.keras.backend\n",
    "\n",
    "from sklearn import neighbors,metrics\n",
    "from sklearn.neighbors import KNeighborsClassifier\n",
    "from sklearn.model_selection import train_test_split\n",
    "\n",
    "#helper libraries\n",
    "import os\n",
    "import gzip\n",
    "import numpy as np\n",
    "import matplotlib.pyplot as plt\n",
    "\n",
    "\n"
   ]
  },
  {
   "cell_type": "markdown",
   "id": "26567d58",
   "metadata": {},
   "source": [
    "## Create Evaluation Metrics"
   ]
  },
  {
   "cell_type": "code",
   "execution_count": 3,
   "id": "e3a3c771",
   "metadata": {},
   "outputs": [],
   "source": [
    "def precision_m(y_true, y_pred):\n",
    "    true_positives = K.sum(K.round(K.clip(y_true * y_pred, 0, 1)))\n",
    "    predicted_positives = K.sum(K.round(K.clip(y_pred, 0, 1)))\n",
    "    precision = true_positives / (predicted_positives + K.epsilon())\n",
    "    return precision"
   ]
  },
  {
   "cell_type": "code",
   "execution_count": 4,
   "id": "be298786",
   "metadata": {},
   "outputs": [],
   "source": [
    "def recall_m(y_true, y_pred):\n",
    "    true_positives = K.sum(K.round(K.clip(y_true * y_pred, 0, 1)))\n",
    "    possible_positives = K.sum(K.round(K.clip(y_true, 0, 1)))\n",
    "    recall = true_positives / (possible_positives + K.epsilon())\n",
    "    return recall"
   ]
  },
  {
   "cell_type": "code",
   "execution_count": 5,
   "id": "70bdb388",
   "metadata": {},
   "outputs": [],
   "source": [
    "def f1_m(y_true, y_pred):\n",
    "    precision = precision_m(y_true, y_pred)\n",
    "    recall = recall_m(y_true, y_pred)\n",
    "    return 2*((precision*recall)/(precision+recall+K.epsilon()))"
   ]
  },
  {
   "cell_type": "markdown",
   "id": "26246b14",
   "metadata": {},
   "source": [
    "## Nearest Neighbor algorithm"
   ]
  },
  {
   "cell_type": "code",
   "execution_count": 13,
   "id": "919d4c67",
   "metadata": {},
   "outputs": [],
   "source": [
    "def NEAREST_NEIGHBOR ():\n",
    "\n",
    "    fashion_mnist = tensorflow.keras.datasets.fashion_mnist\n",
    "\n",
    "    (train_images, train_labels), (test_images, test_labels) = fashion_mnist.load_data()\n",
    "    train_images = np.reshape(train_images, (60000, 28 * 28))\n",
    "    test_images = np.reshape(test_images, (10000, 28 * 28))\n",
    "    \n",
    "    #clothing categories\n",
    "    class_names = ['T-shirt/top', 'Trouser', 'Pullover', 'Dress', 'Coat',\n",
    "                   'Sandal', 'Shirt', 'Sneaker', 'Bag', 'Ankle boot']   \n",
    "\n",
    "    train_images = train_images / 255.0\n",
    "    test_images = test_images / 255.0\n",
    "\n",
    "    idx =(train_labels ==0 )| (train_labels ==1) |(train_labels ==2 )|(train_labels ==3) |(train_labels==4)|(train_labels==5) | (train_labels==6) |(train_labels==7) |(train_labels==8) |(train_labels ==9)\n",
    "    X = train_images[idx]\n",
    "    Y = train_labels[idx]\n",
    "    knn = neighbors.KNeighborsClassifier(n_neighbors= 2).fit(X,Y)\n",
    "\n",
    "    idx =(test_labels ==0 )| (test_labels ==1) |(test_labels ==2 )|(test_labels ==3) |(test_labels==4)|(test_labels==5) | (test_labels==6) |(test_labels==7) |(test_labels==8) |(test_labels ==9)\n",
    "    \n",
    "    x_test= test_images[idx]\n",
    "    y_test = test_labels[idx]\n",
    "\n",
    "    prediction = knn.predict(x_test)"
   ]
  },
  {
   "cell_type": "code",
   "execution_count": null,
   "id": "c0d9bc4a",
   "metadata": {},
   "outputs": [],
   "source": [
    "NEAREST_NEIGHBOR()"
   ]
  }
 ],
 "metadata": {
  "kernelspec": {
   "display_name": "Python 3",
   "language": "python",
   "name": "python3"
  },
  "language_info": {
   "codemirror_mode": {
    "name": "ipython",
    "version": 3
   },
   "file_extension": ".py",
   "mimetype": "text/x-python",
   "name": "python",
   "nbconvert_exporter": "python",
   "pygments_lexer": "ipython3",
   "version": "3.8.8"
  }
 },
 "nbformat": 4,
 "nbformat_minor": 5
}
